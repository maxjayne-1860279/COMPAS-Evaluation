{
 "cells": [
  {
   "cell_type": "markdown",
   "id": "1c45685c",
   "metadata": {},
   "source": [
    "# Evaluating COMPAS Criminal Recidivism Prediction Model\n",
    "\n",
    "---\n",
    "\n",
    "Maxwell Jayne\n",
    "\n",
    "&emsp;&emsp;The Correctional Offender Management Profiling for Alternative Sanctions (COMPAS) algorithm is used to assess defendants for recidivism risk: the risk a defendant may perform another crime. The COMPAS model is a commercial risk aseessment tool that was developed and is owned by Equivant (formerly Northpointe) and has been used in US courts and during pretrial detention with a recorded accuracy of 65% in recidivism prediction. COMPAS or similar risk assessment models are used in 46 states across the US and many, similar to COMPAS, have proprietary algorithms, meaning the general public cannot learn how these risk recidivism risk scores are calculated. The COMPAS test itself is made up of 137 questions, and race is not asked about.\n",
    "\n",
    "&emsp;&emsp;In 2016, ProPublica--a non-profit online news source based out of New York--published an investigation of COMPAS, and found the algorithm to be racially biased, quoting, \"Black defendants were also twice as likely as white defendants to be misclassified as being a higher risk of violent recidivism. And white violent recidivists were 63% more likley to have been misclassified as a low risk of violent recidivism, compared with black violent recidivists\" (Larson, et al.). Additionally, the investigation found that of the recidivism predictions COMPAS made, only 20% actually re-offended. Equivant responded with a statement critiquing the ProPublica investigation and disagreeing with its claims of racial bias. The investigation was also criticized by a criminal justice think tank, Community Resources for Justice, stating the results of ProPublica's investigation contradicted existing studies that concluded risk can be calculated without racial or gender bias. (Larson, et al.) (Angwin, et al.).\n",
    "\n",
    "&emsp;&emsp;This study will examine COMPAS scoring data using a dataset compiled by ProPublica from Florida public records, and evaluate the model in terms of statistical accuracy and racial bias, specifically pertaining to treatment of Caucasian and African American individuals. Initial analysis will be conducted, and confusion matrices constructed for comparison. Similar predictions models will then be created to compare to the COMPAS algorithm results."
   ]
  },
  {
   "cell_type": "markdown",
   "id": "8543a5ef",
   "metadata": {},
   "source": [
    "### Data Preparation & Initial Analysis"
   ]
  },
  {
   "cell_type": "markdown",
   "id": "9c0c890d",
   "metadata": {},
   "source": [
    "&emsp;&emsp;We begin by importing python packages for analysis, loading a simplified compas recidivism scoring dataset, and running preliminary checks, making sure there are no missing values. A few sample rows of the dataset are displayed below. The variables in the dataset are: <br>\n",
    "* **Age** - Age in years\n",
    "* **c_charge-degree** - Type of crime commited: F for Felony, M for misdemeanor\n",
    "* **race** - Recorded race of individual\n",
    "* **age_cat** - Classifies individuals as under 25, 25-45, or older than 25\n",
    "* **sex** - Recorded sex of individual\n",
    "* **priors_count** - The number of previous crimes the individual has commited\n",
    "* **decile_score** -  COMPAS's classification of an individuals risk of recidivism (1 = low . . . 10 = high). This is the score computed by the proprietary model.\n",
    "* **two_year_recid** - Whether or not the individual recidivated (commited another crime): 1 if yes, 0 if no\n",
    "\n",
    "&emsp;&emsp;Note: For this study, we will only consider recidivation within two years of initial offense."
   ]
  },
  {
   "cell_type": "code",
   "execution_count": 94,
   "id": "67132230",
   "metadata": {},
   "outputs": [],
   "source": [
    "import pandas as pd\n",
    "import numpy as np\n",
    "from sklearn.model_selection import cross_validate\n",
    "from sklearn.linear_model import LogisticRegression\n",
    "from sklearn.neighbors import KNeighborsClassifier\n",
    "from sklearn.tree import DecisionTreeClassifier\n",
    "from sklearn.metrics import confusion_matrix\n",
    "import warnings\n",
    "warnings.filterwarnings('ignore')"
   ]
  },
  {
   "cell_type": "code",
   "execution_count": 92,
   "id": "4459a057",
   "metadata": {},
   "outputs": [
    {
     "name": "stdout",
     "output_type": "stream",
     "text": [
      "Dataset Dimensions:  (6172, 8)\n",
      "Missing Values:  0\n"
     ]
    },
    {
     "data": {
      "text/html": [
       "<div>\n",
       "<style scoped>\n",
       "    .dataframe tbody tr th:only-of-type {\n",
       "        vertical-align: middle;\n",
       "    }\n",
       "\n",
       "    .dataframe tbody tr th {\n",
       "        vertical-align: top;\n",
       "    }\n",
       "\n",
       "    .dataframe thead th {\n",
       "        text-align: right;\n",
       "    }\n",
       "</style>\n",
       "<table border=\"1\" class=\"dataframe\">\n",
       "  <thead>\n",
       "    <tr style=\"text-align: right;\">\n",
       "      <th></th>\n",
       "      <th>age</th>\n",
       "      <th>c_charge_degree</th>\n",
       "      <th>race</th>\n",
       "      <th>age_cat</th>\n",
       "      <th>sex</th>\n",
       "      <th>priors_count</th>\n",
       "      <th>decile_score</th>\n",
       "      <th>two_year_recid</th>\n",
       "    </tr>\n",
       "  </thead>\n",
       "  <tbody>\n",
       "    <tr>\n",
       "      <th>2424</th>\n",
       "      <td>40</td>\n",
       "      <td>F</td>\n",
       "      <td>Other</td>\n",
       "      <td>25 - 45</td>\n",
       "      <td>Male</td>\n",
       "      <td>8</td>\n",
       "      <td>7</td>\n",
       "      <td>1</td>\n",
       "    </tr>\n",
       "    <tr>\n",
       "      <th>5905</th>\n",
       "      <td>37</td>\n",
       "      <td>M</td>\n",
       "      <td>African-American</td>\n",
       "      <td>25 - 45</td>\n",
       "      <td>Male</td>\n",
       "      <td>4</td>\n",
       "      <td>4</td>\n",
       "      <td>1</td>\n",
       "    </tr>\n",
       "    <tr>\n",
       "      <th>1125</th>\n",
       "      <td>43</td>\n",
       "      <td>F</td>\n",
       "      <td>Caucasian</td>\n",
       "      <td>25 - 45</td>\n",
       "      <td>Male</td>\n",
       "      <td>2</td>\n",
       "      <td>1</td>\n",
       "      <td>0</td>\n",
       "    </tr>\n",
       "  </tbody>\n",
       "</table>\n",
       "</div>"
      ],
      "text/plain": [
       "      age c_charge_degree              race  age_cat   sex  priors_count  \\\n",
       "2424   40               F             Other  25 - 45  Male             8   \n",
       "5905   37               M  African-American  25 - 45  Male             4   \n",
       "1125   43               F         Caucasian  25 - 45  Male             2   \n",
       "\n",
       "      decile_score  two_year_recid  \n",
       "2424             7               1  \n",
       "5905             4               1  \n",
       "1125             1               0  "
      ]
     },
     "execution_count": 92,
     "metadata": {},
     "output_type": "execute_result"
    }
   ],
   "source": [
    "compas = pd.read_csv(\"compas-score-data.csv.bz2\", sep=\"\\t\")\n",
    "print(\"Dataset Dimensions: \", compas.shape)\n",
    "print(\"Missing Values: \", compas.isna().sum().sum())\n",
    "compas.sample(3)"
   ]
  },
  {
   "cell_type": "markdown",
   "id": "001645c3",
   "metadata": {},
   "source": [
    "&emsp;&emsp;Below we filter out rows with values other than 'African-American' or 'Caucasian' in the race column and create a secondary score measure with a binary encoding. This second score tells us if an individuals score from the proprietary COMPAS model indicates they are at high risk to recidivate (a decile score greater than or equal to 5), or at low risk (a decile score less than 5). The new column, called 'high_score' contains a 1 if the individual is at high risk of recidivating (score >= 5), or a zero if the indivdual is low risk (score < 5)."
   ]
  },
  {
   "cell_type": "code",
   "execution_count": 52,
   "id": "4b633da7",
   "metadata": {
    "scrolled": true
   },
   "outputs": [
    {
     "data": {
      "text/html": [
       "<div>\n",
       "<style scoped>\n",
       "    .dataframe tbody tr th:only-of-type {\n",
       "        vertical-align: middle;\n",
       "    }\n",
       "\n",
       "    .dataframe tbody tr th {\n",
       "        vertical-align: top;\n",
       "    }\n",
       "\n",
       "    .dataframe thead th {\n",
       "        text-align: right;\n",
       "    }\n",
       "</style>\n",
       "<table border=\"1\" class=\"dataframe\">\n",
       "  <thead>\n",
       "    <tr style=\"text-align: right;\">\n",
       "      <th></th>\n",
       "      <th>age</th>\n",
       "      <th>c_charge_degree</th>\n",
       "      <th>race</th>\n",
       "      <th>age_cat</th>\n",
       "      <th>sex</th>\n",
       "      <th>priors_count</th>\n",
       "      <th>decile_score</th>\n",
       "      <th>two_year_recid</th>\n",
       "      <th>high_score</th>\n",
       "    </tr>\n",
       "  </thead>\n",
       "  <tbody>\n",
       "    <tr>\n",
       "      <th>3281</th>\n",
       "      <td>29</td>\n",
       "      <td>M</td>\n",
       "      <td>Caucasian</td>\n",
       "      <td>25 - 45</td>\n",
       "      <td>Male</td>\n",
       "      <td>0</td>\n",
       "      <td>2</td>\n",
       "      <td>0</td>\n",
       "      <td>0.0</td>\n",
       "    </tr>\n",
       "    <tr>\n",
       "      <th>4554</th>\n",
       "      <td>69</td>\n",
       "      <td>F</td>\n",
       "      <td>African-American</td>\n",
       "      <td>Greater than 45</td>\n",
       "      <td>Male</td>\n",
       "      <td>1</td>\n",
       "      <td>1</td>\n",
       "      <td>1</td>\n",
       "      <td>0.0</td>\n",
       "    </tr>\n",
       "    <tr>\n",
       "      <th>6041</th>\n",
       "      <td>38</td>\n",
       "      <td>M</td>\n",
       "      <td>Caucasian</td>\n",
       "      <td>25 - 45</td>\n",
       "      <td>Male</td>\n",
       "      <td>1</td>\n",
       "      <td>1</td>\n",
       "      <td>1</td>\n",
       "      <td>0.0</td>\n",
       "    </tr>\n",
       "  </tbody>\n",
       "</table>\n",
       "</div>"
      ],
      "text/plain": [
       "      age c_charge_degree              race          age_cat   sex  \\\n",
       "3281   29               M         Caucasian          25 - 45  Male   \n",
       "4554   69               F  African-American  Greater than 45  Male   \n",
       "6041   38               M         Caucasian          25 - 45  Male   \n",
       "\n",
       "      priors_count  decile_score  two_year_recid  high_score  \n",
       "3281             0             2               0         0.0  \n",
       "4554             1             1               1         0.0  \n",
       "6041             1             1               1         0.0  "
      ]
     },
     "execution_count": 52,
     "metadata": {},
     "output_type": "execute_result"
    }
   ],
   "source": [
    "compas = compas[(compas.race == \"African-American\") | (compas.race == \"Caucasian\")]\n",
    "print(\"Dataset Dimensions: \", compas.shape)\n",
    "compas.loc[compas[\"decile_score\"] < 5, 'high_score'] = 0 \n",
    "compas.loc[compas[\"decile_score\"] >= 5, 'high_score'] = 1\n",
    "compas.sample(3)"
   ]
  },
  {
   "cell_type": "markdown",
   "id": "30c47b8e",
   "metadata": {},
   "source": [
    "&emsp;&emsp;Next we analyze recidivism rates between low and high scoring individuals according to the compas algorithm, and between African American and Caucasian offenders. From the dataset, recidivism rate for low scoring individuals is 32%, and 63% for high scoring individuals. For African American individuals the recidivism rate is 52% and for Caucasian individuals the rate is 39%."
   ]
  },
  {
   "cell_type": "code",
   "execution_count": 67,
   "id": "02a183d0",
   "metadata": {},
   "outputs": [
    {
     "name": "stdout",
     "output_type": "stream",
     "text": [
      "Recidivism rates for individuals with high and low COMPAS scores:\n",
      "\n",
      "high_score\n",
      "0.0    0.320015\n",
      "1.0    0.634455\n",
      "Name: two_year_recid, dtype: float64\n",
      "\n",
      "Recidivism rates for African American and Caucasian individuals:\n",
      "\n",
      "race\n",
      "African-American    0.52315\n",
      "Caucasian           0.39087\n",
      "Name: two_year_recid, dtype: float64\n",
      "\n",
      "Rate of high COMPAS scores (score >= 5) for African American and Caucasian individuals:\n",
      "\n",
      "race\n",
      "African-American    0.576063\n",
      "Caucasian           0.330956\n",
      "Name: high_score, dtype: float64\n"
     ]
    }
   ],
   "source": [
    "print(\"Recidivism rates for individuals with high and low COMPAS scores:\")\n",
    "print()\n",
    "print(compas.groupby(\"high_score\").two_year_recid.mean())\n",
    "print()\n",
    "print(\"Recidivism rates for African American and Caucasian individuals:\")\n",
    "print()\n",
    "print(compas.groupby(\"race\").two_year_recid.mean())\n",
    "print()\n",
    "print(\"Rate of high COMPAS scores (score >= 5) for African American and Caucasian individuals:\")\n",
    "print()\n",
    "print(compas.groupby(\"race\").high_score.mean())"
   ]
  },
  {
   "cell_type": "markdown",
   "id": "f247fadf",
   "metadata": {},
   "source": [
    "&emsp;&emsp;Of the high scores (COMPAS scores greater than or equal to 5) the model assigns, only 63% of individuals actually re-commit a crime. This lines up with the reported accuracy of 65%, though it only considers individuals with COMPAS scores higher than 5. From the metrics above, we can also see that African Americans are more likely to have a high COMPAS score with a rate of 58% compared to Caucasians at 33%. This high score rate is higher than the actual recidivism rate for African Americans (52%) and lower than actual for Caucasians (39%)."
   ]
  },
  {
   "cell_type": "markdown",
   "id": "b133e444",
   "metadata": {},
   "source": [
    "### Confusion Matrix Analysis"
   ]
  },
  {
   "cell_type": "markdown",
   "id": "a578bb22",
   "metadata": {},
   "source": [
    "&emsp;&emsp;Below we construct a confusion matrix to analyze COMPAS predictions and actual recidivism cases. Note positive indicates recidivism, negative indicates no re-offense within two years, true indicates the COMPAS algorithm predicted correctly, and false indicates the algorithms prediction was wrong."
   ]
  },
  {
   "cell_type": "code",
   "execution_count": 16,
   "id": "354c5f3c",
   "metadata": {},
   "outputs": [
    {
     "name": "stdout",
     "output_type": "stream",
     "text": [
      "True positive (tp) -  1602\n",
      "True negative (tn) -  1872\n",
      "False positive (fp) -  923\n",
      "False negative (fn) -  881\n"
     ]
    }
   ],
   "source": [
    "tp = compas[(compas.two_year_recid == 1) & (compas.high_score == 1)]\n",
    "tp = len(tp)\n",
    "print(\"True positive (tp) - \", tp)\n",
    "tn = compas[(compas.two_year_recid == 0) & (compas.high_score == 0)]\n",
    "tn = len(tn)\n",
    "print(\"True negative (tn) - \", tn)\n",
    "fp = compas[(compas.two_year_recid == 0) & (compas.high_score == 1)]\n",
    "fp = len(fp)\n",
    "print(\"False positive (fp) - \", fp)\n",
    "fn = compas[(compas.two_year_recid == 1) & (compas.high_score == 0)]\n",
    "fn = len(fn)\n",
    "print(\"False negative (fn) - \", fn)"
   ]
  },
  {
   "cell_type": "markdown",
   "id": "fe39d891",
   "metadata": {},
   "source": [
    "| Recidivism Rate | **Predicted** | |\n",
    "| -------- | ------------: | ------:|\n",
    "| | Negative | Positive |\n",
    "|**Actual**| 1872 | 923 |\n",
    "| | 881 | 1602 |"
   ]
  },
  {
   "cell_type": "markdown",
   "id": "da50737d",
   "metadata": {},
   "source": [
    "&emsp;&emsp;Our confusion matrix shows us that the compas model correctly identifies repeat offenders in 1602 cases of 5,278 and non-repeat offenders in 1872 cases, giving us an accuracy of 65.82%, close to the reported accuracy. However the model misidentifies individuals in a large chunk of the cases. Compas falsely classified 923 individuals as high risk or about 17.5% of the sample. Compas also misidentifies 881 individuals as low risk or about 16.7% of the sample."
   ]
  },
  {
   "cell_type": "markdown",
   "id": "c8adcade",
   "metadata": {},
   "source": [
    "&emsp;&emsp;Below we calculate accuracy, precision, and recall for the compas predictions. As noted above, Compas is 65.8% accurate in its predictions and from the similar precision (0.634) and recall (0.645), and similar false positive and false negative numbers, we can see the misidentifications are fairly evenly distributed, though slightly more likely to predict a false positive than a false negative, at least in this sample. A false positive indicates an individual had a high COMPAS score and did not recidivate. A high score may influence a judges decision in court, which may have consequences for an individual who will not recidivate. As our justice system uses the tenet - 'Innocent until proven guilty' - this study will have a greater focus on false positives than false negatives."
   ]
  },
  {
   "cell_type": "code",
   "execution_count": 63,
   "id": "0ba035a3",
   "metadata": {},
   "outputs": [
    {
     "name": "stdout",
     "output_type": "stream",
     "text": [
      "Accuracy -  0.6582038651004168\n",
      "Precision -  0.6344554455445545\n",
      "Recall -  0.6451872734595248\n"
     ]
    }
   ],
   "source": [
    "A = (tp + tn) / (tp + tn + fp + fn)\n",
    "P = tp / (tp + fp)\n",
    "R = tp / (tp + fn)\n",
    "print(\"Accuracy - \", A)\n",
    "print(\"Precision - \", P)\n",
    "print(\"Recall - \", R)"
   ]
  },
  {
   "cell_type": "markdown",
   "id": "f362afcd",
   "metadata": {},
   "source": [
    "&emsp;&emsp;Below we create confusion matrices for both African Americans and Caucasians:"
   ]
  },
  {
   "cell_type": "code",
   "execution_count": 18,
   "id": "7cbb7f0e",
   "metadata": {},
   "outputs": [],
   "source": [
    "compas_AA = compas[compas.race == \"African-American\"]\n",
    "# compas_AA.shape\n",
    "compas_C = compas[compas.race == \"Caucasian\"]\n",
    "# compas_C.shape"
   ]
  },
  {
   "cell_type": "code",
   "execution_count": 65,
   "id": "08526218",
   "metadata": {},
   "outputs": [
    {
     "name": "stdout",
     "output_type": "stream",
     "text": [
      "African American\n",
      "\n",
      "True positive -  1188\n",
      "True negative -  873\n",
      "False positive -  641\n",
      "False negative -  473\n",
      "\n",
      "Caucasian\n",
      "\n",
      "True positive -  414\n",
      "True negative -  999\n",
      "False positive -  282\n",
      "False negative -  408\n"
     ]
    }
   ],
   "source": [
    "print(\"African American\"), print()\n",
    "tp_AA = compas_AA[(compas_AA.two_year_recid == 1) & (compas_AA.high_score == 1)]\n",
    "tp_AA = len(tp_AA)\n",
    "print(\"True positive - \", tp_AA)\n",
    "tn_AA = compas_AA[(compas_AA.two_year_recid == 0) & (compas_AA.high_score == 0)]\n",
    "tn_AA = len(tn_AA)\n",
    "print(\"True negative - \", tn_AA)\n",
    "fp_AA = compas_AA[(compas_AA.two_year_recid == 0) & (compas_AA.high_score == 1)]\n",
    "fp_AA = len(fp_AA)\n",
    "print(\"False positive - \", fp_AA)\n",
    "fn_AA = compas_AA[(compas_AA.two_year_recid == 1) & (compas_AA.high_score == 0)]\n",
    "fn_AA = len(fn_AA)\n",
    "print(\"False negative - \", fn_AA)\n",
    "\n",
    "print(), print(\"Caucasian\"), print()\n",
    "tp_C = compas_C[(compas_C.two_year_recid == 1) & (compas_C.high_score == 1)]\n",
    "tp_C = len(tp_C)\n",
    "print(\"True positive - \", tp_C)\n",
    "tn_C = compas_C[(compas_C.two_year_recid == 0) & (compas_C.high_score == 0)]\n",
    "tn_C = len(tn_C)\n",
    "print(\"True negative - \", tn_C)\n",
    "fp_C = compas_C[(compas_C.two_year_recid == 0) & (compas_C.high_score == 1)]\n",
    "fp_C = len(fp_C)\n",
    "print(\"False positive - \", fp_C)\n",
    "fn_C = compas_C[(compas_C.two_year_recid == 1) & (compas_C.high_score == 0)]\n",
    "fn_C = len(fn_C)\n",
    "print(\"False negative - \", fn_C)"
   ]
  },
  {
   "cell_type": "markdown",
   "id": "0b5b9b97",
   "metadata": {},
   "source": [
    "| African American | **Predicted** | | |   Caucasian   | **Predicted** | |\n",
    "| -------- | ------------: | ------:| | -------- | ------------: | ------:|\n",
    "| | Negative | Positive | | | Negative | Positive |\n",
    "|**Actual**| 873 | 641 | |**Actual**| 999 | 282 |\n",
    "| | 473 | 1188 | | | 408 | 414 |"
   ]
  },
  {
   "cell_type": "code",
   "execution_count": 68,
   "id": "f1f6ebc1",
   "metadata": {},
   "outputs": [
    {
     "name": "stdout",
     "output_type": "stream",
     "text": [
      "African American\n",
      "\n",
      "Accuracy -  0.6491338582677165\n",
      "False positive rate -  0.4233817701453104\n",
      "False negative rate -  0.2847682119205298\n",
      "\n",
      "Caucasian\n",
      "\n",
      "Accuracy -  0.6718972895863052\n",
      "False positive rate -  0.22014051522248243\n",
      "False negative rate -  0.49635036496350365\n"
     ]
    }
   ],
   "source": [
    "print(\"African American\"), print()\n",
    "A_AA = (tp_AA + tn_AA) / (tp_AA + tn_AA + fp_AA + fn_AA)\n",
    "FPR_AA = fp_AA / (tn_AA + fp_AA)\n",
    "FNR_AA = fn_AA / (tp_AA + fn_AA)\n",
    "print(\"Accuracy - \", A_AA)\n",
    "print(\"False positive rate - \", FPR_AA)\n",
    "print(\"False negative rate - \", FNR_AA), print()\n",
    "\n",
    "print(\"Caucasian\"), print()\n",
    "A_C = (tp_C + tn_C) / (tp_C + tn_C + fp_C + fn_C)\n",
    "FPR_C = fp_C / (tn_C + fp_C)\n",
    "FNR_C = fn_C / (tp_C + fn_C)\n",
    "print(\"Accuracy - \", A_C)\n",
    "print(\"False positive rate - \", FPR_C)\n",
    "print(\"False negative rate - \", FNR_C)"
   ]
  },
  {
   "cell_type": "markdown",
   "id": "258e6db9",
   "metadata": {},
   "source": [
    "&emsp;&emsp;From our calculations above, we can see that the model is more accurate in predicting for Caucasians than for African Americans, though only by 2.2 percentage points. More importantly, the false positive rate is far higher for African Americans and the false negative rate is much lower. This indicates that an African American individual is far more likely to be falsely classified as high risk than a Caucasian, and far less likely that an African American individual will be falsely classified as low risk than a Caucasian individual. This correlates with ProPublica's findings and indicates the COMPAS algorithm may be unfair in its scoring in regards to race."
   ]
  },
  {
   "cell_type": "markdown",
   "id": "de4989b9",
   "metadata": {},
   "source": [
    "### Comparing Alternate Prediction Models"
   ]
  },
  {
   "cell_type": "markdown",
   "id": "80ae33b5",
   "metadata": {},
   "source": [
    "&emsp;&emsp;Below we will construct alternate machine learning algorithms to compare to the COMPAS algorithm. This studies prediction models will ignore race and sex entirely, and will attempt to produce accuracies similar to COMPAS using the other features COMPAS considers. When evaluating these models, the most appropriate metrics to track are accuracy--a good indicator of the models ability to properly predict--and precision, which is sensitive to false positives. As a positive indicates a high COMPAS score, and a false positive conclusion may have negative or harmful impacts on an individual going to trial, it is therefore a focus. Recall will also be calculated for additional insight. "
   ]
  },
  {
   "cell_type": "markdown",
   "id": "b8918586",
   "metadata": {},
   "source": [
    "&emsp;&emsp;First, two new binary variables are created, one indicating whether or not an individual has any prior charges (**priors2**), and the other indicating whether or not an individual is younger than 30 (**age2**). Three feature sets are then constructed. The feature sets are:\n",
    "* \\[ age, c_charge_degree, age_cat, priors_count \\]\n",
    "* \\[ age, c_charge_degree, age2, priors2 \\]\n",
    "* \\[ age, c_charge_degree, age_cat, priors_count, priors2 \\]\n",
    "\n",
    "&emsp;&emsp;Three models are then constructed: A logistic regression model, a decision tree model with a maximum depth of 100 nodes, and a nearest neighbors model considering 70 neighbors. The logistic regression model is fit to the first feature set, and the decision tree and nearest neaighbors models are fitted to all three feature sets. Using 10-fold cross validation, accuracy, precision, and recall are calculated and listed below."
   ]
  },
  {
   "cell_type": "code",
   "execution_count": 80,
   "id": "119b3450",
   "metadata": {},
   "outputs": [],
   "source": [
    "compas.loc[compas[\"priors_count\"] == 0, 'priors2'] = 0 \n",
    "compas.loc[compas[\"priors_count\"] > 0, 'priors2'] = 1\n",
    "compas.loc[compas[\"age\"] < 30, 'age2'] = 0\n",
    "compas.loc[compas[\"age\"] >= 30, 'age2'] = 1\n",
    "\n",
    "X = pd.get_dummies(\n",
    "    compas[[\"age\", \"c_charge_degree\", \"age_cat\", \"priors_count\"]],\n",
    "    columns = [\"c_charge_degree\", \"age_cat\"]).values\n",
    "\n",
    "X2 = pd.get_dummies(\n",
    "    compas[[\"age\", \"c_charge_degree\", \"age2\", \"priors2\"]],\n",
    "    columns = [\"c_charge_degree\", \"age2\", \"priors2\"]).values\n",
    "\n",
    "X3 = pd.get_dummies(\n",
    "    compas[[\"age\", \"c_charge_degree\", \"age_cat\", \"priors_count\", \"priors2\"]],\n",
    "    columns = [\"c_charge_degree\", \"age_cat\", \"priors2\"]).values\n",
    "\n",
    "y = compas.two_year_recid.values\n",
    "\n",
    "m1 = LogisticRegression()\n",
    "m2 = DecisionTreeClassifier(max_depth=100)\n",
    "m3 = KNeighborsClassifier(70)"
   ]
  },
  {
   "cell_type": "code",
   "execution_count": 95,
   "id": "6680c8d7",
   "metadata": {},
   "outputs": [],
   "source": [
    "# Pre:   This function takes a model object to fit the data, a feature list or array, and a target list or array (y)\n",
    "# Post:  The function will perform 10 fold cross validation and return a dict with key-mapped arrays of scoring metrics\n",
    "def cross_val(model, features, y):\n",
    "    scores = cross_validate(model, features, y,\n",
    "                scoring=[\"accuracy\", \"recall\", \"precision\"],\n",
    "                cv=10)\n",
    "    return scores"
   ]
  },
  {
   "cell_type": "code",
   "execution_count": 97,
   "id": "84cdbee0",
   "metadata": {},
   "outputs": [],
   "source": [
    "# Pre:   This function takes a dict with mapped arrays as given by the SKlearn.model_selection package's cross_validate \n",
    "#        function\n",
    "# Post:  The function will print testing data accuracy, precision, and recall\n",
    "def results(cv_scores):\n",
    "    print(\"Accuracy - \", np.mean(cv_scores['test_accuracy']))\n",
    "    print(\"Precision - \", np.mean(cv_scores['test_precision']))\n",
    "    print(\"Recall - \", np.mean(cv_scores['test_recall']))\n",
    "    print()"
   ]
  },
  {
   "cell_type": "code",
   "execution_count": 83,
   "id": "a3aa3b1a",
   "metadata": {},
   "outputs": [],
   "source": [
    "cv1 = cross_val(m1, X, y)\n",
    "cv2 = cross_val(m2, X, y)\n",
    "cv3 = cross_val(m3, X, y)\n",
    "cv4 = cross_val(m2, X2, y)\n",
    "cv5 = cross_val(m3, X2, y)\n",
    "cv6 = cross_val(m2, X3, y)\n",
    "cv7 = cross_val(m3, X3, y)"
   ]
  },
  {
   "cell_type": "code",
   "execution_count": 85,
   "id": "b5521028",
   "metadata": {},
   "outputs": [
    {
     "name": "stdout",
     "output_type": "stream",
     "text": [
      "Logistic Regression - Feature Set 1\n",
      "Accuracy -  0.6703291213846242\n",
      "Precision -  0.6604111653377751\n",
      "Recall -  0.6161630392537893\n",
      "\n",
      "Decision Tree Classifier - Feature Set 1\n",
      "Accuracy -  0.6464536254384452\n",
      "Precision -  0.6484584297536495\n",
      "Recall -  0.5424747376603186\n",
      "\n",
      "Nearest Neighbors Classifier - Feature set 1\n",
      "Accuracy -  0.6788561612328216\n",
      "Precision -  0.6864363192147438\n",
      "Recall -  0.5843600207280736\n",
      "\n",
      "Decision Tree Classifier - Feature Set 2\n",
      "Accuracy -  0.6305423782416193\n",
      "Precision -  0.6057220974960358\n",
      "Recall -  0.6133647493198602\n",
      "\n",
      "Nearest Neighbors Classifier - Feature set 2\n",
      "Accuracy -  0.6333879592892877\n",
      "Precision -  0.6131658607606252\n",
      "Recall -  0.5960454722114263\n",
      "\n",
      "Decision Tree Classifier - Feature Set 3\n",
      "Accuracy -  0.6462642314990512\n",
      "Precision -  0.6484861189078318\n",
      "Recall -  0.5416699054281642\n",
      "\n",
      "Nearest Neighbors Classifier - Feature set 3\n",
      "Accuracy -  0.6773377752860675\n",
      "Precision -  0.6776957166066594\n",
      "Recall -  0.5988550978105972\n",
      "\n"
     ]
    }
   ],
   "source": [
    "print(\"Logistic Regression - Feature Set 1\")\n",
    "results(cv1)\n",
    "print(\"Decision Tree Classifier - Feature Set 1\")\n",
    "results(cv2)\n",
    "print(\"Nearest Neighbors Classifier - Feature set 1\")\n",
    "results(cv3)\n",
    "print(\"Decision Tree Classifier - Feature Set 2\")\n",
    "results(cv4)\n",
    "print(\"Nearest Neighbors Classifier - Feature set 2\")\n",
    "results(cv5)\n",
    "print(\"Decision Tree Classifier - Feature Set 3\")\n",
    "results(cv6)\n",
    "print(\"Nearest Neighbors Classifier - Feature set 3\")\n",
    "results(cv7)"
   ]
  },
  {
   "cell_type": "markdown",
   "id": "14571712",
   "metadata": {},
   "source": [
    "&emsp;&emsp;Based solely upon the accuracy, precision, and recall of the models built above, a nearest neighbors regression model that does not consider race or gender (considering 70 nearest neighbors, age, age category, charge degree, and prior charges) does a better job of predicting than the compas algorithm, at least using this data sample. The nearest neighbors model predicts with an accuracy of 67.88% compared to compas's 65.82%. Precision for the nearest neighbors model is calculated at 0.6864, better than the compas's precision of 0.6345. This indicates that the nearest neighbors model is less likely to falsely identify someone as a high risk individual. On the other hand, the nearest neighbors model has a lower recall score of 0.5844 than compas's 0.6452, meaning the nearest neighbors model is more likely to falsely identify someone as a low risk individual. The nearest neighbors model proves that a risk assessment software can achive similar if not better accuracies without considering any features that can be effected by race or gender (besides charge degree, as a result of potential bias previously in court). This is backed up by the rest of the prediction models scoring accuracies of 63.05% or greater, all close to the reported accuracy of COMPAS (65%). The higher precision and lower recall scores of the nearest neighbors model also align to a greater degree with our justice systems value of innocent until proven guilty."
   ]
  },
  {
   "cell_type": "markdown",
   "id": "28e150ab",
   "metadata": {},
   "source": [
    "### Confusion Matrix Comparison"
   ]
  },
  {
   "cell_type": "markdown",
   "id": "e978be57",
   "metadata": {},
   "source": [
    "&emsp;&emsp;Using the nearest neighbors regression model considering 70 nearest neighbors discussed above, recidivism rates are predicted. Confusion matrices and false positive/negative rates for both the nearest neighbors model and COMPAS scoring are displayed below:"
   ]
  },
  {
   "cell_type": "code",
   "execution_count": 98,
   "id": "cb7e0133",
   "metadata": {},
   "outputs": [
    {
     "name": "stdout",
     "output_type": "stream",
     "text": [
      "[[2107  688]\n",
      " [ 979 1504]]\n"
     ]
    }
   ],
   "source": [
    "m3.fit(X, y)\n",
    "yhat = m3.predict(X)\n",
    "cm = confusion_matrix(y, yhat)\n",
    "print(cm)"
   ]
  },
  {
   "cell_type": "markdown",
   "id": "275ba3d7",
   "metadata": {},
   "source": [
    "| Nearest Neighbors | **Predicted** | | | COMPAS | **Predicted** | |\n",
    "| -------- | ------------: | ------:| | -------- | ------------: | ------:|\n",
    "| | Negative | Positive | | | Negative | Positive |\n",
    "|**Actual**| 2107 | 688 | |**Actual**| 1872 | 923 |\n",
    "| | 979 | 1504 | | | 881 | 1602 |"
   ]
  },
  {
   "cell_type": "code",
   "execution_count": 99,
   "id": "cfedaebd",
   "metadata": {},
   "outputs": [
    {
     "name": "stdout",
     "output_type": "stream",
     "text": [
      "Nearest Neighbors Model\n",
      "False Positive Rate -  0.24615384615384617\n",
      "False Negative Rate -  0.39428111155859846\n",
      "\n",
      "COMPAS Algorithm\n",
      "False Positive Rate -  0.3302325581395349\n",
      "False Negative Rate -  0.35481272654047524\n"
     ]
    }
   ],
   "source": [
    "print(\"Nearest Neighbors Model\")\n",
    "print(\"False Positive Rate - \", 688 / (688 + 2107))\n",
    "print(\"False Negative Rate - \", 979 / (979 + 1504))\n",
    "print()\n",
    "print(\"COMPAS Algorithm\")\n",
    "print(\"False Positive Rate - \", fp / (tn + fp))\n",
    "print(\"False Negative Rate - \", fn / (tp + fn))"
   ]
  },
  {
   "cell_type": "markdown",
   "id": "cc163a69",
   "metadata": {},
   "source": [
    "&emsp;&emsp;From our results above we can see the nearest neighbors model predicts more negative or low risk values than the compas algorithm. The nearest neighbors model correctly identifies more low risk individuals than the COMPAS algorithm, and mididentifies less individuals who do not recidivate within two years as high risk for re-offending. The nearest neighbors model is less accurate with predicting high risk individuals who do recidiavte, and misidentifies more individuals who do recidivate as low risk. Overall the nearest neighbors model aligns better with the tenet that an individual is innocent until proven guilty than the compas algorithm."
   ]
  },
  {
   "cell_type": "markdown",
   "id": "ce387f0a",
   "metadata": {},
   "source": [
    "### Conclusion"
   ]
  },
  {
   "cell_type": "markdown",
   "id": "a2c010ed",
   "metadata": {},
   "source": [
    "&emsp;&emsp;After examing the COMPAS model, there is evidence that its predictions are racially biased. This disparity is especially noticable in the difference in false positive and negative rates between African Americans and Caucasians, where an African Amercian individual is more likely to be given a high risk score and not recidivate, and a Caucasian individual is more likley to be given a low risk score and recidivate. While the developers may not have intended for this disparity, there is statistical evidence of its difference in treatment in regard to race. Additionally, this study found that similar prediction algorithms can predict with similar, if not better, accuracy than the COMPAS algorithm using the sample data while not considering factors that can be effected by race or gender. With these findings in mind, it can be concluded that race and gender are not necessary factors to consider in commercial risk assessment tools, and likely cause more damage to African American and potentially other minority indivduals when considered.\n",
    "\n",
    "&emsp;&emsp;Judges with access to these models need to use them carefully, as they are not perfect indicators of a persons risk of re-offending. While a judge may consider such a model and take insight from it, they should not use it as a primary measure of a persons guilt or innocence, and should not let the model create pre-concieved notions about an individual. Models like this heavily oversimplify the variables at play in any individuals circumstances, and do little, if anything, to actually help the people regarded in the dataset."
   ]
  },
  {
   "cell_type": "markdown",
   "id": "3f376790",
   "metadata": {},
   "source": [
    "### Bibliography\n",
    "\n",
    "Angwin, Julia, et al. “Machine Bias.” ProPublica, 23 May 2016, www.propublica.org/article/machine-bias-risk-assessments-in-criminal-sentencing. \n",
    "\n",
    "Larson, Jeff, et al. “How We Analyzed the Compas Recidivism Algorithm.” ProPublica, 23 May 2016, www.propublica.org/article/how-we-analyzed-the-compas-recidivism-algorithm/. "
   ]
  }
 ],
 "metadata": {
  "kernelspec": {
   "display_name": "Python 3 (ipykernel)",
   "language": "python",
   "name": "python3"
  },
  "language_info": {
   "codemirror_mode": {
    "name": "ipython",
    "version": 3
   },
   "file_extension": ".py",
   "mimetype": "text/x-python",
   "name": "python",
   "nbconvert_exporter": "python",
   "pygments_lexer": "ipython3",
   "version": "3.9.13"
  }
 },
 "nbformat": 4,
 "nbformat_minor": 5
}
